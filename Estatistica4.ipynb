{
  "nbformat": 4,
  "nbformat_minor": 0,
  "metadata": {
    "colab": {
      "provenance": []
    },
    "kernelspec": {
      "name": "python3",
      "display_name": "Python 3"
    },
    "language_info": {
      "name": "python"
    }
  },
  "cells": [
    {
      "cell_type": "code",
      "execution_count": null,
      "metadata": {
        "colab": {
          "base_uri": "https://localhost:8080/"
        },
        "id": "w2PJnocQsUni",
        "outputId": "4cccef37-7e3d-42ca-8f12-882414e97859"
      },
      "outputs": [
        {
          "output_type": "stream",
          "name": "stdout",
          "text": [
            "1) Duas moedas são lançadas. Represente o espaço amostral deste exemplo.\n",
            "[('Cara', 'Cara'), ('Cara', 'Coroa'), ('Coroa', 'Cara'), ('Coroa', 'Coroa')]\n"
          ]
        }
      ],
      "source": [
        "import itertools\n",
        "\n",
        "print(\"1) Duas moedas são lançadas. Represente o espaço amostral deste exemplo.\")\n",
        "\n",
        "resultados_moeda = ['Cara', 'Coroa']\n",
        "\n",
        "espaco_amostral = list(itertools.product(resultados_moeda, repeat=2))\n",
        "\n",
        "print(espaco_amostral)"
      ]
    },
    {
      "cell_type": "code",
      "source": [
        "import itertools\n",
        "\n",
        "resultados_partida = ['A', 'B', 'C']\n",
        "\n",
        "print(\"2) Três times de basquete A, B e C participam de um desafio. O desafio inicia com A jogando com B e o vencedor jogando com C, e assim por diante. O desafio termina quando um time ganhar duas vezes seguidas ou ao final de quatro partidas. Quais são os possíveis resultados do desafio?\")\n",
        "\n",
        "possiveis_resultados = []\n",
        "\n",
        "for resultado in itertools.product(resultados_partida, repeat=4):\n",
        "    if (\n",
        "        (resultado.count('A') == 2 or resultado.count('B') == 2 or resultado.count('C') == 2)\n",
        "        or len(possiveis_resultados) == 4\n",
        "    ):\n",
        "        break\n",
        "    possiveis_resultados.append(resultado)\n",
        "\n",
        "print(possiveis_resultados)"
      ],
      "metadata": {
        "colab": {
          "base_uri": "https://localhost:8080/"
        },
        "id": "xXy-OYLptcr_",
        "outputId": "af41fe58-63ad-440e-b8cf-8857e58ba9ba"
      },
      "execution_count": null,
      "outputs": [
        {
          "output_type": "stream",
          "name": "stdout",
          "text": [
            "2) Três times de basquete A, B e C participam de um desafio. O desafio inicia com A jogando com B e o vencedor jogando com C, e assim por diante. O desafio termina quando um time ganhar duas vezes seguidas ou ao final de quatro partidas. Quais são os possíveis resultados do desafio?\n",
            "[('A', 'A', 'A', 'A'), ('A', 'A', 'A', 'B'), ('A', 'A', 'A', 'C'), ('A', 'A', 'B', 'A')]\n"
          ]
        }
      ]
    },
    {
      "cell_type": "code",
      "source": [
        "print(\"3) Dois dados são lançados. Considerando que o evento A corresponde à soma dos números obtidos igual a 9, e o evento B ao número no primeiro dado maior ou igual a 4. Enumere os elementos dos eventos A e B.\")\n",
        "\n",
        "evento_A = []\n",
        "\n",
        "for dado1 in range(1, 7):\n",
        "    for dado2 in range(1, 7):\n",
        "        if dado1 + dado2 == 9:\n",
        "            evento_A.append((dado1, dado2))\n",
        "\n",
        "print(\"Evento A:\")\n",
        "print(evento_A)\n",
        "\n",
        "evento_B = []\n",
        "\n",
        "for dado1 in range(1, 7):\n",
        "    for dado2 in range(1, 7):\n",
        "        if dado1 >= 4:\n",
        "            evento_B.append((dado1, dado2))\n",
        "\n",
        "print(\"Evento B:\")\n",
        "print(evento_B)"
      ],
      "metadata": {
        "colab": {
          "base_uri": "https://localhost:8080/"
        },
        "id": "8pk4W4EgujFg",
        "outputId": "40cb4f71-0f81-44ad-ab2c-122cfe14d558"
      },
      "execution_count": null,
      "outputs": [
        {
          "output_type": "stream",
          "name": "stdout",
          "text": [
            "3) Dois dados são lançados. Considerando que o evento A corresponde à soma dos números obtidos igual a 9, e o evento B ao número no primeiro dado maior ou igual a 4. Enumere os elementos dos eventos A e B.\n",
            "Evento A:\n",
            "[(3, 6), (4, 5), (5, 4), (6, 3)]\n",
            "Evento B:\n",
            "[(4, 1), (4, 2), (4, 3), (4, 4), (4, 5), (4, 6), (5, 1), (5, 2), (5, 3), (5, 4), (5, 5), (5, 6), (6, 1), (6, 2), (6, 3), (6, 4), (6, 5), (6, 6)]\n"
          ]
        }
      ]
    },
    {
      "cell_type": "code",
      "source": [
        "import math\n",
        "\n",
        "print(\"4) Uma moeda sem defeitos é lançada quatro vezes. Seja X o número de coroas obtidas. Calcule a distribuição de X.\")\n",
        "\n",
        "n = 4\n",
        "\n",
        "p = 0.5\n",
        "\n",
        "distribuicao_X = {}\n",
        "\n",
        "for k in range(n + 1):\n",
        "    coef_binomial = math.comb(n, k)\n",
        "    probabilidade = coef_binomial * (p ** k) * ((1 - p) ** (n - k))\n",
        "    distribuicao_X[k] = probabilidade\n",
        "\n",
        "print(\"Distribuição de X:\")\n",
        "for k, probabilidade in distribuicao_X.items():\n",
        "    print(f\"X: {k} = {probabilidade:.3f}\")"
      ],
      "metadata": {
        "colab": {
          "base_uri": "https://localhost:8080/"
        },
        "id": "JT6pckhVvINl",
        "outputId": "a58ca7cd-391d-48a6-c366-98d28f9f03a3"
      },
      "execution_count": null,
      "outputs": [
        {
          "output_type": "stream",
          "name": "stdout",
          "text": [
            "4) Uma moeda sem defeitos é lançada quatro vezes. Seja X o número de coroas obtidas. Calcule a distribuição de X.\n",
            "Distribuição de X:\n",
            "X: 0 = 0.062\n",
            "X: 1 = 0.250\n",
            "X: 2 = 0.375\n",
            "X: 3 = 0.250\n",
            "X: 4 = 0.062\n"
          ]
        }
      ]
    },
    {
      "cell_type": "markdown",
      "source": [
        "5) Conecte os números dos Diagramas de Venn às suas respectivas letras das notações segundo a figura:\n",
        "\n",
        "1 - H\n",
        "\n",
        "2 - J\n",
        "\n",
        "3 - D\n",
        "\n",
        "4 - A\n",
        "\n",
        "5 - F\n",
        "\n",
        "6 - G\n",
        "\n",
        "7 - C\n",
        "\n",
        "8 - K\n",
        "\n",
        "9 - B\n",
        "\n",
        "10 - I\n",
        "\n",
        "11 - L\n",
        "\n",
        "12 - E"
      ],
      "metadata": {
        "id": "PZg8OphQ1MT7"
      }
    }
  ]
}