{
  "nbformat": 4,
  "nbformat_minor": 0,
  "metadata": {
    "colab": {
      "provenance": []
    },
    "kernelspec": {
      "name": "python3",
      "display_name": "Python 3"
    },
    "language_info": {
      "name": "python"
    }
  },
  "cells": [
    {
      "cell_type": "code",
      "execution_count": null,
      "metadata": {
        "colab": {
          "base_uri": "https://localhost:8080/"
        },
        "id": "k-e-EyHFgYlt",
        "outputId": "d5f6d525-8e9a-405e-f692-7c4eb5fd1823"
      },
      "outputs": [
        {
          "output_type": "stream",
          "name": "stdout",
          "text": [
            "1) Considerando o exemplo do empresário que pretende estabelecer uma empresa especializada em montar um produto composto de uma esfera e um cilindro. Considere a variável aleatória T como sendo a variável “custo de recuperação de cada composto produzido (cilindro+esfera)”, e determine os valores assumidos por T:\n",
            "Valores de T:\n",
            "[[ 80.  90. 100.]\n",
            " [ 90. 100. 110.]\n",
            " [100. 110. 120.]]\n"
          ]
        }
      ],
      "source": [
        "import numpy as np\n",
        "\n",
        "custo_cilindro = np.array([50, 60, 70])\n",
        "custo_esfera = np.array([30, 40, 50])\n",
        "\n",
        "print(\"1) Considerando o exemplo do empresário que pretende estabelecer uma empresa especializada em montar um produto composto de uma esfera e um cilindro. Considere a variável aleatória T como sendo a variável “custo de recuperação de cada composto produzido (cilindro+esfera)”, e determine os valores assumidos por T:\")\n",
        "\n",
        "T_valores = np.empty((len(custo_cilindro), len(custo_esfera)))\n",
        "\n",
        "for i in range(len(custo_cilindro)):\n",
        "    for j in range(len(custo_esfera)):\n",
        "        T_valores[i, j] = custo_cilindro[i] + custo_esfera[j]\n",
        "print(\"Valores de T:\")\n",
        "print(T_valores)"
      ]
    },
    {
      "cell_type": "code",
      "source": [
        "import numpy as np\n",
        "from itertools import combinations\n",
        "\n",
        "urna = ['B', 'B', 'V', 'V', 'V']\n",
        "\n",
        "print(\"2) Imagine urna contendo duas bolas brancas (B) e três bolas vermelhas (V). Em um cenário onde são sorteadas duas bolas ao acaso, sem reposição da bola sorteada de volta na urna (escolhe-se a primeira bola, verifica-se a cor e não se devolve à urna; mistura-se as bolas restantes e retira-se a segunda. Considere a variável aleatória H  'número de bolas vermelhas obtidas nas duas extrações', quais os valores que podem ser assumidos por H?\")\n",
        "\n",
        "comb = list(combinations(urna, 2))\n",
        "\n",
        "count_H = {0: 0, 1: 0, 2: 0}\n",
        "\n",
        "for c in comb:\n",
        "    num_vermelhas = c.count('V')\n",
        "    count_H[num_vermelhas] += 1\n",
        "\n",
        "print(\"Valores de H:\")\n",
        "for h, count in count_H.items():\n",
        "    print(f\"[H é {h}, têm {count} ocorrências]\")"
      ],
      "metadata": {
        "colab": {
          "base_uri": "https://localhost:8080/"
        },
        "id": "RXbFXIyijXCj",
        "outputId": "86fd75f1-bd43-4715-9e21-623874be35a7"
      },
      "execution_count": null,
      "outputs": [
        {
          "output_type": "stream",
          "name": "stdout",
          "text": [
            "2) Imagine urna contendo duas bolas brancas (B) e três bolas vermelhas (V). Em um cenário onde são sorteadas duas bolas ao acaso, sem reposição da bola sorteada de volta na urna (escolhe-se a primeira bola, verifica-se a cor e não se devolve à urna; mistura-se as bolas restantes e retira-se a segunda. Considere a variável aleatória H  'número de bolas vermelhas obtidas nas duas extrações', quais os valores que podem ser assumidos por H?\n",
            "Valores de H:\n",
            "[H é 0, têm 1 ocorrências]\n",
            "[H é 1, têm 6 ocorrências]\n",
            "[H é 2, têm 3 ocorrências]\n"
          ]
        }
      ]
    },
    {
      "cell_type": "code",
      "source": [
        "resultados_possiveis = ['Cara', 'Coroa']\n",
        "\n",
        "valores_W = set()\n",
        "\n",
        "for resultado1 in resultados_possiveis:\n",
        "    for resultado2 in resultados_possiveis:\n",
        "        resultado_concatenado = resultado1 + resultado2\n",
        "        num_caras = resultado_concatenado.count('Cara')\n",
        "        valores_W.add(num_caras)\n",
        "\n",
        "valores_W_ordenados = sorted(valores_W)\n",
        "\n",
        "print(\"3) Considere o lançamento de uma moeda duas vezes. Define-se a variável aleatória W 'número de caras obtidas nos dois lançamentos'. Quais os valores assumidos pela variável aleatória W?\")\n",
        "\n",
        "print(\"Valores de W:\")\n",
        "print(valores_W_ordenados)"
      ],
      "metadata": {
        "colab": {
          "base_uri": "https://localhost:8080/"
        },
        "id": "zAZsGyOQkAoD",
        "outputId": "8bda293e-118d-43a8-e9f9-fdf3a1ca6b84"
      },
      "execution_count": null,
      "outputs": [
        {
          "output_type": "stream",
          "name": "stdout",
          "text": [
            "3) Considere o lançamento de uma moeda duas vezes. Define-se a variável aleatória W 'número de caras obtidas nos dois lançamentos'. Quais os valores assumidos pela variável aleatória W?\n",
            "Valores de W:\n",
            "[0, 1, 2]\n"
          ]
        }
      ]
    }
  ]
}