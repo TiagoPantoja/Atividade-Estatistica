{
  "nbformat": 4,
  "nbformat_minor": 0,
  "metadata": {
    "colab": {
      "provenance": []
    },
    "kernelspec": {
      "name": "python3",
      "display_name": "Python 3"
    },
    "language_info": {
      "name": "python"
    }
  },
  "cells": [
    {
      "cell_type": "code",
      "execution_count": null,
      "metadata": {
        "colab": {
          "base_uri": "https://localhost:8080/"
        },
        "id": "hRfVDtpvw8XA",
        "outputId": "9e7661e9-f879-4f45-9b78-08a0fcb48455"
      },
      "outputs": [
        {
          "output_type": "stream",
          "name": "stdout",
          "text": [
            "a) Distribuição de frequência:\n",
            "                    interior   capital  interior\n",
            "Grau de Instrução                               \n",
            "ensino fundamental  0.111111  0.111111  0.111111\n",
            "ensino médio        0.166667  0.101852  0.166667\n",
            "ensino superior     0.055556  0.120370  0.055556\n"
          ]
        }
      ],
      "source": [
        "import pandas as pd\n",
        "\n",
        "grau_instrucao = ['ensino fundamental', 'ensino médio', 'ensino superior']\n",
        "regiao_procedencia = ['interior', 'capital', 'interior']\n",
        "\n",
        "contagens = [\n",
        "    [12, 18, 6],\n",
        "    [12, 11, 13],\n",
        "    [12, 18, 6]\n",
        "]\n",
        "\n",
        "total_ocorrencias = sum(sum(row) for row in contagens)\n",
        "\n",
        "data = []\n",
        "\n",
        "for i, grau in enumerate(grau_instrucao):\n",
        "    row = []\n",
        "    for j, regiao in enumerate(regiao_procedencia):\n",
        "        frequency = contagens[j][i] / total_ocorrencias\n",
        "        row.append(frequency)\n",
        "    data.append(row)\n",
        "\n",
        "df = pd.DataFrame(data, columns=regiao_procedencia, index=grau_instrucao)\n",
        "df.index.name = 'Grau de Instrução'\n",
        "\n",
        "print(\"a) Distribuição de frequência:\")\n",
        "print(df)"
      ]
    },
    {
      "cell_type": "code",
      "source": [
        "import pandas as pd\n",
        "\n",
        "data = {\n",
        "    'total_funcionarios': [36],\n",
        "    'funcionarios_ensino_medio': [18]\n",
        "}\n",
        "\n",
        "df = pd.DataFrame(data)\n",
        "\n",
        "porcentagem_ensino_medio = (df['funcionarios_ensino_medio'] / df['total_funcionarios']) * 100\n",
        "\n",
        "print(f\"b) Porcentagem de funcionários com ensino médio: {porcentagem_ensino_medio.iloc[0]:.2f}%\")"
      ],
      "metadata": {
        "colab": {
          "base_uri": "https://localhost:8080/"
        },
        "id": "0Ce4eCLQ0ydU",
        "outputId": "c96370a2-8538-4379-ecf4-30334212817f"
      },
      "execution_count": null,
      "outputs": [
        {
          "output_type": "stream",
          "name": "stdout",
          "text": [
            "b) Porcentagem de funcionários com ensino médio: 50.00%\n"
          ]
        }
      ]
    },
    {
      "cell_type": "code",
      "source": [
        "import pandas as pd\n",
        "\n",
        "data = {\n",
        "    'total_funcionarios': [36],\n",
        "    'funcionarios_ensino_medio': [18],\n",
        "    'funcionarios_ensino_medio_interior': [7]\n",
        "}\n",
        "\n",
        "df = pd.DataFrame(data)\n",
        "\n",
        "porcentagem_ensino_medio_interior = (df['funcionarios_ensino_medio_interior'] / df['total_funcionarios']) * 100\n",
        "\n",
        "print(f\"c) Porcentagem de funcionários com ensino médio e do interior: {porcentagem_ensino_medio_interior.iloc[0]:.2f}%\")"
      ],
      "metadata": {
        "colab": {
          "base_uri": "https://localhost:8080/"
        },
        "id": "fZ0SmaEY1BLi",
        "outputId": "26c94222-a082-498e-bbac-898b461861a5"
      },
      "execution_count": null,
      "outputs": [
        {
          "output_type": "stream",
          "name": "stdout",
          "text": [
            "c) A porcentagem de funcionários com ensino médio e do interior é: 19.44%\n"
          ]
        }
      ]
    },
    {
      "cell_type": "code",
      "source": [
        "import pandas as pd\n",
        "\n",
        "data = {\n",
        "    'total_funcionarios': [36],\n",
        "    'funcionarios_interior': [12],\n",
        "    'funcionarios_interior_ensino_medio': [7]\n",
        "}\n",
        "\n",
        "df = pd.DataFrame(data)\n",
        "\n",
        "porcentagem_interior_ensino_medio = (df['funcionarios_interior_ensino_medio'] / df['funcionarios_interior']) * 100\n",
        "\n",
        "print(f\"d) Porcentagem de funcionários do interior com ensino médio: {porcentagem_interior_ensino_medio.iloc[0]:.2f}%\")"
      ],
      "metadata": {
        "colab": {
          "base_uri": "https://localhost:8080/"
        },
        "id": "9fp8EFPE1rxF",
        "outputId": "5bf7a41a-d44c-4676-acd2-d993ef18a453"
      },
      "execution_count": null,
      "outputs": [
        {
          "output_type": "stream",
          "name": "stdout",
          "text": [
            "d) Porcentagem de funcionários do interior com ensino médio: 58.33%\n"
          ]
        }
      ]
    },
    {
      "cell_type": "code",
      "source": [
        "total_funcionarios = 36\n",
        "\n",
        "funcionarios_ensino_fundamental = 12\n",
        "funcionarios_ensino_medio = 18\n",
        "funcionarios_ensino_superior = 6\n",
        "\n",
        "prob_ensino_fundamental = (funcionarios_ensino_fundamental / total_funcionarios) * 100\n",
        "prob_ensino_medio = (funcionarios_ensino_medio / total_funcionarios) * 100\n",
        "prob_ensino_superior = (funcionarios_ensino_superior / total_funcionarios) * 100\n",
        "\n",
        "print(f\"a)\")\n",
        "print(f\"Probabilidade de ensino fundamental: {prob_ensino_fundamental:.2f}%\")\n",
        "print(f\"Probabilidade de ensino médio: {prob_ensino_medio:.2f}%\")\n",
        "print(f\"Probabilidade de ensino superior: {prob_ensino_superior:.2f}%\")"
      ],
      "metadata": {
        "colab": {
          "base_uri": "https://localhost:8080/"
        },
        "id": "-9YysQs53SoM",
        "outputId": "767564ea-00cf-4fd3-8f97-efcb5bce0c56"
      },
      "execution_count": null,
      "outputs": [
        {
          "output_type": "stream",
          "name": "stdout",
          "text": [
            "a)\n",
            "Probabilidade de ensino fundamental: 33.33%\n",
            "Probabilidade de ensino médio: 50.00%\n",
            "Probabilidade de ensino superior: 16.67%\n"
          ]
        }
      ]
    },
    {
      "cell_type": "code",
      "source": [
        "total_funcionarios = 36\n",
        "\n",
        "funcionarios_outra_regiao = 13\n",
        "funcionarios_procedencia_interior = 12\n",
        "funcionarios_procedencia_capital = 11\n",
        "\n",
        "prob_outra_regiao = (funcionarios_outra_regiao / total_funcionarios) * 100\n",
        "prob_procedencia_interior = (funcionarios_procedencia_interior / total_funcionarios) * 100\n",
        "prob_procedencia_capital = (funcionarios_procedencia_capital / total_funcionarios) * 100\n",
        "\n",
        "print(f\"b)\")\n",
        "print(f\"Probabilidade de outra região de procedência: {prob_outra_regiao:.2f}%\")\n",
        "print(f\"Probabilidade de procedência interior: {prob_procedencia_interior:.2f}%\")\n",
        "print(f\"Probabilidade de procedência capital: {prob_procedencia_capital:.2f}%\")"
      ],
      "metadata": {
        "colab": {
          "base_uri": "https://localhost:8080/"
        },
        "id": "DWZFq7xI4KBK",
        "outputId": "419d2452-8de4-4498-d82d-8f375824d956"
      },
      "execution_count": null,
      "outputs": [
        {
          "output_type": "stream",
          "name": "stdout",
          "text": [
            "b)\n",
            "Probabilidade de outra região de procedência: 36.11%\n",
            "Probabilidade de procedência interior: 33.33%\n",
            "Probabilidade de procedência capital: 30.56%\n"
          ]
        }
      ]
    },
    {
      "cell_type": "code",
      "source": [
        "total_funcionarios = 36\n",
        "funcionarios_ensino_superior = 6\n",
        "\n",
        "prob_nivel_superior = (funcionarios_ensino_superior / total_funcionarios) * 100\n",
        "\n",
        "print(f\"c) Probabilidade de ter nível superior: {prob_nivel_superior:.2f}%\")"
      ],
      "metadata": {
        "colab": {
          "base_uri": "https://localhost:8080/"
        },
        "id": "rc_iBFGV4WOw",
        "outputId": "a2a141d4-3c63-48ff-b82c-2b785a0b24ec"
      },
      "execution_count": null,
      "outputs": [
        {
          "output_type": "stream",
          "name": "stdout",
          "text": [
            "c) Probabilidade de ter nível superior: 16.67%\n"
          ]
        }
      ]
    },
    {
      "cell_type": "code",
      "source": [
        "funcionarios_procedencia_interior = 12\n",
        "funcionarios_ensino_superior_interior = 6\n",
        "\n",
        "prob_nivel_superior_interior = (funcionarios_ensino_superior_interior / funcionarios_procedencia_interior) * 100\n",
        "\n",
        "print(f\"d) Probabilidade de possuir nível superior sendo do interior: {prob_nivel_superior_interior:.2f}%\")"
      ],
      "metadata": {
        "colab": {
          "base_uri": "https://localhost:8080/"
        },
        "id": "8ZyEZkbd41dL",
        "outputId": "87e5a789-6317-4fda-c23b-a010622067ff"
      },
      "execution_count": null,
      "outputs": [
        {
          "output_type": "stream",
          "name": "stdout",
          "text": [
            "d) Probabilidade de possuir nível superior sendo do interior: 50.00%\n"
          ]
        }
      ]
    },
    {
      "cell_type": "code",
      "source": [
        "funcionarios_procedencia_capital = 11\n",
        "funcionarios_ensino_superior_capital = 6\n",
        "\n",
        "prob_nivel_superior_capital = (funcionarios_ensino_superior_capital / funcionarios_procedencia_capital) * 100\n",
        "\n",
        "print(f\"e) Probabilidade de possuir nível superior sendo da capital: {prob_nivel_superior_capital:.2f}%\")"
      ],
      "metadata": {
        "colab": {
          "base_uri": "https://localhost:8080/"
        },
        "id": "r8vGk6IP49t2",
        "outputId": "84d0ed99-728e-4774-ebe0-0d47acace660"
      },
      "execution_count": null,
      "outputs": [
        {
          "output_type": "stream",
          "name": "stdout",
          "text": [
            "e) Probabilidade de possuir nível superior sendo da capital: 54.55%\n"
          ]
        }
      ]
    },
    {
      "cell_type": "code",
      "source": [
        "total_outra_regiao = 13\n",
        "ensino_fundamental_outra_regiao = 5\n",
        "ensino_medio_outra_regiao = 4\n",
        "ensino_superior_outra_regiao = 4\n",
        "\n",
        "total_interior = 12\n",
        "ensino_fundamental_interior = 3\n",
        "ensino_medio_interior = 6\n",
        "ensino_superior_interior = 3\n",
        "\n",
        "total_capital = 11\n",
        "ensino_fundamental_capital = 4\n",
        "ensino_medio_capital = 8\n",
        "ensino_superior_capital = 3\n",
        "\n",
        "prop_fundamental_outra_regiao = (ensino_fundamental_outra_regiao / total_outra_regiao) * 100\n",
        "prop_medio_outra_regiao = (ensino_medio_outra_regiao / total_outra_regiao) * 100\n",
        "prop_superior_outra_regiao = (ensino_superior_outra_regiao / total_outra_regiao) * 100\n",
        "\n",
        "prop_fundamental_interior = (ensino_fundamental_interior / total_interior) * 100\n",
        "prop_medio_interior = (ensino_medio_interior / total_interior) * 100\n",
        "prop_superior_interior = (ensino_superior_interior / total_interior) * 100\n",
        "\n",
        "prop_fundamental_capital = (ensino_fundamental_capital / total_capital) * 100\n",
        "prop_medio_capital = (ensino_medio_capital / total_capital) * 100\n",
        "prop_superior_capital = (ensino_superior_capital / total_capital) * 100\n",
        "\n",
        "print(\"a) Distribuição de frequência do grau de educação para cada região de procedência:\")\n",
        "print(\"Outra Região:\")\n",
        "print(f\"Ensino Fundamental: {prop_fundamental_outra_regiao:.2f}%\")\n",
        "print(f\"Ensino Médio: {prop_medio_outra_regiao:.2f}%\")\n",
        "print(f\"Ensino Superior: {prop_superior_outra_regiao:.2f}%\")\n",
        "print(\"Interior:\")\n",
        "print(f\"Ensino Fundamental: {prop_fundamental_interior:.2f}%\")\n",
        "print(f\"Ensino Médio: {prop_medio_interior:.2f}%\")\n",
        "print(f\"Ensino Superior: {prop_superior_interior:.2f}%\")\n",
        "print(\"Capital:\")\n",
        "print(f\"Ensino Fundamental: {prop_fundamental_capital:.2f}%\")\n",
        "print(f\"Ensino Médio: {prop_medio_capital:.2f}%\")\n",
        "print(f\"Ensino Superior: {prop_superior_capital:.2f}%\")"
      ],
      "metadata": {
        "colab": {
          "base_uri": "https://localhost:8080/"
        },
        "id": "RQGSSX1_5T_e",
        "outputId": "7aeedf38-c3a6-45ae-c06a-ac040f0aa672"
      },
      "execution_count": null,
      "outputs": [
        {
          "output_type": "stream",
          "name": "stdout",
          "text": [
            "a) Distribuição de frequência do grau de educação para cada região de procedência:\n",
            "Outra Região:\n",
            "Ensino Fundamental: 38.46%\n",
            "Ensino Médio: 30.77%\n",
            "Ensino Superior: 30.77%\n",
            "Interior:\n",
            "Ensino Fundamental: 25.00%\n",
            "Ensino Médio: 50.00%\n",
            "Ensino Superior: 25.00%\n",
            "Capital:\n",
            "Ensino Fundamental: 36.36%\n",
            "Ensino Médio: 72.73%\n",
            "Ensino Superior: 27.27%\n"
          ]
        }
      ]
    },
    {
      "cell_type": "code",
      "source": [],
      "metadata": {
        "id": "v53owZVO5nFX"
      },
      "execution_count": null,
      "outputs": []
    },
    {
      "cell_type": "markdown",
      "source": [
        "**b) Por meio das distribuições de frequência, pode-se dizer que existe uma dependência entre a região de procedência e o nível de educação. Os funcionários do interior e de outras regiões de procedência possuem escolaridade menor, com a maioria possuíndo nível fundamental e médio, enquanto os funcionários da capital possuem escolaridade maior, com a maioria possuíndo ensino médio e superior.**"
      ],
      "metadata": {
        "id": "nXOkaWuH5uCb"
      }
    },
    {
      "cell_type": "code",
      "source": [
        "import scipy.stats as stats\n",
        "\n",
        "observed_data = [\n",
        "    [12, 18, 6],\n",
        "    [13, 12, 11]\n",
        "]\n",
        "\n",
        "chi2, p, dof, expected = stats.chi2_contingency(observed_data)\n",
        "contingency_coefficient = (chi2 / (chi2 + total_funcionarios)) ** 0.5\n",
        "\n",
        "print(f\"4)\")\n",
        "print(f\"Valor de χ2: {chi2:.2f}\")\n",
        "print(f\"Coeficiente de Contingência C: {contingency_coefficient:.2f}\")"
      ],
      "metadata": {
        "colab": {
          "base_uri": "https://localhost:8080/"
        },
        "id": "Z7iNP2lq6Vz4",
        "outputId": "aa5378a9-0469-49c8-c844-dac2e6665744"
      },
      "execution_count": null,
      "outputs": [
        {
          "output_type": "stream",
          "name": "stdout",
          "text": [
            "4)\n",
            "Valor de χ2: 2.71\n",
            "Coeficiente de Contingência C: 0.26\n"
          ]
        }
      ]
    },
    {
      "cell_type": "markdown",
      "source": [
        "**Os números mostram a dependência entre o grau de educação e região de procedência. O valor relativamente elevado do coeficiente de contingência mostra essa relação, e portanto está de acordo com a conclusão de que existe dependência entre a região de procedência e o nível de educação do funcionário.**"
      ],
      "metadata": {
        "id": "UWBZzrLi6oQr"
      }
    },
    {
      "cell_type": "code",
      "source": [
        "import matplotlib.pyplot as plt\n",
        "import numpy as np\n",
        "\n",
        "idade = [20, 23, 25, 26, 26, 27, 28, 29, 30, 30, 31, 31, 32, 32, 33, 33, 34,\n",
        "         34, 35, 35, 36, 36, 37, 37, 38, 39, 40, 40, 41, 41, 42, 43, 43,\n",
        "         44, 46, 48]\n",
        "multiplos_salario_minimo = [4.00, 4.56, 5.25, 5.73, 6.26, 6.66, 6.86, 7.39, 7.59,\n",
        "                            7.44, 8.12, 8.46, 8.74, 8.95, 9.13, 9.35, 9.77, 9.80,\n",
        "                            10.53, 10.76, 11.06, 11.59, 12.00, 12.79, 13.23, 13.60,\n",
        "                            13.85, 14.69, 14.71, 15.99, 16.22, 16.61, 17.26, 18.75,\n",
        "                            19.40, 23.30]\n",
        "salario = [s * 1 for s in multiplos_salario_minimo]\n",
        "\n",
        "plt.figure(figsize=(10, 6))\n",
        "plt.scatter(idade, salario, color='blue', marker='o', alpha=0.7)\n",
        "plt.title(\"5) Gráfico de Dispersão\")\n",
        "plt.xlabel(\"Idade\")\n",
        "plt.ylabel(\"Salário\")\n",
        "plt.grid(True)\n",
        "plt.show()\n",
        "\n",
        "coef_correlacao = np.corrcoef(idade, salario)[0, 1]\n",
        "print(f\"Coeficiente de Correlação: {coef_correlacao:.2f}\")"
      ],
      "metadata": {
        "colab": {
          "base_uri": "https://localhost:8080/",
          "height": 582
        },
        "id": "vzdPqH8r_l7F",
        "outputId": "f855d501-6ed6-4070-ef65-b2de2d136285"
      },
      "execution_count": null,
      "outputs": [
        {
          "output_type": "display_data",
          "data": {
            "text/plain": [
              "<Figure size 1000x600 with 1 Axes>"
            ],
            "image/png": "[encoded data removed]"
          },
          "metadata": {}
        },
        {
          "output_type": "stream",
          "name": "stdout",
          "text": [
            "Coeficiente de Correlação: 0.98\n"
          ]
        }
      ]
    }
  ]
}