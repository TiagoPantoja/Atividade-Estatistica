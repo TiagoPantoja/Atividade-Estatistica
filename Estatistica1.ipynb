{
  "cells": [
    {
      "cell_type": "markdown",
      "metadata": {
        "id": "rJLwB8IdnxnR"
      },
      "source": [
        "1) Usando os dados da Tabela anexa, construa a distribuição de frequências das variáveis:"
      ]
    },
    {
      "cell_type": "markdown",
      "metadata": {
        "id": "H57q8ZPzicAm"
      },
      "source": [
        "a) Estado Civil\n"
      ]
    },
    {
      "cell_type": "code",
      "execution_count": null,
      "metadata": {
        "colab": {
          "base_uri": "https://localhost:8080/",
          "height": 112
        },
        "id": "1nHqGyiBiVaO",
        "outputId": "bb537e52-25d2-450c-b9d0-d5563ccc3e01"
      },
      "outputs": [
        {
          "data": {
            "text/html": [
              "<style type=\"text/css\">\n",
              "</style>\n",
              "<table id=\"T_d2821\" class=\"dataframe\">\n",
              "  <thead>\n",
              "    <tr>\n",
              "      <th class=\"blank level0\" >&nbsp;</th>\n",
              "      <th id=\"T_d2821_level0_col0\" class=\"col_heading level0 col0\" >Estado Civil</th>\n",
              "      <th id=\"T_d2821_level0_col1\" class=\"col_heading level0 col1\" >Absoluta</th>\n",
              "      <th id=\"T_d2821_level0_col2\" class=\"col_heading level0 col2\" >Proporcional</th>\n",
              "    </tr>\n",
              "  </thead>\n",
              "  <tbody>\n",
              "    <tr>\n",
              "      <th id=\"T_d2821_level0_row0\" class=\"row_heading level0 row0\" >0</th>\n",
              "      <td id=\"T_d2821_row0_col0\" class=\"data row0 col0\" >casado</td>\n",
              "      <td id=\"T_d2821_row0_col1\" class=\"data row0 col1\" >20</td>\n",
              "      <td id=\"T_d2821_row0_col2\" class=\"data row0 col2\" >55.56%</td>\n",
              "    </tr>\n",
              "    <tr>\n",
              "      <th id=\"T_d2821_level0_row1\" class=\"row_heading level0 row1\" >1</th>\n",
              "      <td id=\"T_d2821_row1_col0\" class=\"data row1 col0\" >solteiro</td>\n",
              "      <td id=\"T_d2821_row1_col1\" class=\"data row1 col1\" >16</td>\n",
              "      <td id=\"T_d2821_row1_col2\" class=\"data row1 col2\" >44.44%</td>\n",
              "    </tr>\n",
              "  </tbody>\n",
              "</table>\n"
            ],
            "text/plain": [
              "<pandas.io.formats.style.Styler at 0x7f6dcc0bafb0>"
            ]
          },
          "metadata": {},
          "output_type": "display_data"
        }
      ],
      "source": [
        "import pandas as pd\n",
        "\n",
        "dados = {\n",
        "    'estado_civil': ['solteiro'] * 16 + ['casado'] * 20\n",
        "}\n",
        "\n",
        "df = pd.DataFrame(dados)\n",
        "\n",
        "distribuicao = df['estado_civil'].value_counts().sort_index()\n",
        "\n",
        "total_empregados = len(df)\n",
        "distribuicao_proporcional = distribuicao / total_empregados\n",
        "\n",
        "tabela_frequencia = pd.DataFrame({'Estado Civil': distribuicao.index,\n",
        "                                  'Absoluta': distribuicao.values,\n",
        "                                  'Proporcional': distribuicao_proporcional.values})\n",
        "\n",
        "tabela_frequencia_styled = tabela_frequencia.style.format({\n",
        "    'Absoluta': '{:.0f}',\n",
        "    'Proporcional': '{:.2%}'\n",
        "})\n",
        "\n",
        "display(tabela_frequencia_styled)"
      ]
    },
    {
      "cell_type": "markdown",
      "metadata": {
        "id": "WUxH24cNiliG"
      },
      "source": [
        "b) Região de Procedência"
      ]
    },
    {
      "cell_type": "code",
      "execution_count": null,
      "metadata": {
        "colab": {
          "base_uri": "https://localhost:8080/",
          "height": 175
        },
        "id": "DmvBoguYioWS",
        "outputId": "e977b302-42dd-4d61-ad79-677eed1f96ee"
      },
      "outputs": [
        {
          "data": {
            "text/html": [
              "<style type=\"text/css\">\n",
              "</style>\n",
              "<table id=\"T_55ae8\" class=\"dataframe\">\n",
              "  <thead>\n",
              "    <tr>\n",
              "      <th class=\"blank level0\" >&nbsp;</th>\n",
              "      <th id=\"T_55ae8_level0_col0\" class=\"col_heading level0 col0\" >Frequência</th>\n",
              "      <th id=\"T_55ae8_level0_col1\" class=\"col_heading level0 col1\" >Proporcional</th>\n",
              "    </tr>\n",
              "    <tr>\n",
              "      <th class=\"index_name level0\" >Região</th>\n",
              "      <th class=\"blank col0\" >&nbsp;</th>\n",
              "      <th class=\"blank col1\" >&nbsp;</th>\n",
              "    </tr>\n",
              "  </thead>\n",
              "  <tbody>\n",
              "    <tr>\n",
              "      <th id=\"T_55ae8_level0_row0\" class=\"row_heading level0 row0\" >capital</th>\n",
              "      <td id=\"T_55ae8_row0_col0\" class=\"data row0 col0\" >11</td>\n",
              "      <td id=\"T_55ae8_row0_col1\" class=\"data row0 col1\" >30.56%</td>\n",
              "    </tr>\n",
              "    <tr>\n",
              "      <th id=\"T_55ae8_level0_row1\" class=\"row_heading level0 row1\" >interior</th>\n",
              "      <td id=\"T_55ae8_row1_col0\" class=\"data row1 col0\" >12</td>\n",
              "      <td id=\"T_55ae8_row1_col1\" class=\"data row1 col1\" >33.33%</td>\n",
              "    </tr>\n",
              "    <tr>\n",
              "      <th id=\"T_55ae8_level0_row2\" class=\"row_heading level0 row2\" >outra</th>\n",
              "      <td id=\"T_55ae8_row2_col0\" class=\"data row2 col0\" >13</td>\n",
              "      <td id=\"T_55ae8_row2_col1\" class=\"data row2 col1\" >36.11%</td>\n",
              "    </tr>\n",
              "  </tbody>\n",
              "</table>\n"
            ],
            "text/plain": [
              "<pandas.io.formats.style.Styler at 0x7f6d95cf1e70>"
            ]
          },
          "metadata": {},
          "output_type": "display_data"
        }
      ],
      "source": [
        "import pandas as pd\n",
        "\n",
        "dados = {\n",
        "    'rg_procedencia': ['interior'] * 12 + ['capital'] * 11 + ['outra'] * 13\n",
        "}\n",
        "\n",
        "df = pd.DataFrame(dados)\n",
        "\n",
        "distribuicao = df['rg_procedencia'].value_counts().sort_index()\n",
        "\n",
        "total_regioes = len(df)\n",
        "distribuicao_proporcional = distribuicao / total_regioes\n",
        "\n",
        "tabela_frequencia = pd.DataFrame({'Região': distribuicao.index,\n",
        "                                  'Frequência': distribuicao.values,\n",
        "                                  'Proporcional': distribuicao_proporcional.values})\n",
        "\n",
        "tabela_frequencia.set_index('Região', inplace=True)\n",
        "\n",
        "tabela_frequencia_styled = tabela_frequencia.style.format({\n",
        "    'Frequência': '{:.0f}',\n",
        "    'Proporcional': '{:.2%}'\n",
        "})\n",
        "\n",
        "display(tabela_frequencia_styled)"
      ]
    },
    {
      "cell_type": "markdown",
      "metadata": {
        "id": "lylFCOcSjkAm"
      },
      "source": [
        "c) Número de filhos dos empregados casados"
      ]
    },
    {
      "cell_type": "code",
      "execution_count": null,
      "metadata": {
        "colab": {
          "base_uri": "https://localhost:8080/",
          "height": 238
        },
        "id": "iAeebqeokWY3",
        "outputId": "3390d766-bbeb-479a-9124-cd7bf24bbe48"
      },
      "outputs": [
        {
          "data": {
            "text/html": [
              "<style type=\"text/css\">\n",
              "</style>\n",
              "<table id=\"T_7a86d\" class=\"dataframe\">\n",
              "  <thead>\n",
              "    <tr>\n",
              "      <th class=\"blank level0\" >&nbsp;</th>\n",
              "      <th id=\"T_7a86d_level0_col0\" class=\"col_heading level0 col0\" >Absoluta</th>\n",
              "      <th id=\"T_7a86d_level0_col1\" class=\"col_heading level0 col1\" >Proporcional</th>\n",
              "    </tr>\n",
              "    <tr>\n",
              "      <th class=\"index_name level0\" >Nº Filhos</th>\n",
              "      <th class=\"blank col0\" >&nbsp;</th>\n",
              "      <th class=\"blank col1\" >&nbsp;</th>\n",
              "    </tr>\n",
              "  </thead>\n",
              "  <tbody>\n",
              "    <tr>\n",
              "      <th id=\"T_7a86d_level0_row0\" class=\"row_heading level0 row0\" >0</th>\n",
              "      <td id=\"T_7a86d_row0_col0\" class=\"data row0 col0\" >4</td>\n",
              "      <td id=\"T_7a86d_row0_col1\" class=\"data row0 col1\" >20.00%</td>\n",
              "    </tr>\n",
              "    <tr>\n",
              "      <th id=\"T_7a86d_level0_row1\" class=\"row_heading level0 row1\" >1</th>\n",
              "      <td id=\"T_7a86d_row1_col0\" class=\"data row1 col0\" >5</td>\n",
              "      <td id=\"T_7a86d_row1_col1\" class=\"data row1 col1\" >25.00%</td>\n",
              "    </tr>\n",
              "    <tr>\n",
              "      <th id=\"T_7a86d_level0_row2\" class=\"row_heading level0 row2\" >2</th>\n",
              "      <td id=\"T_7a86d_row2_col0\" class=\"data row2 col0\" >7</td>\n",
              "      <td id=\"T_7a86d_row2_col1\" class=\"data row2 col1\" >35.00%</td>\n",
              "    </tr>\n",
              "    <tr>\n",
              "      <th id=\"T_7a86d_level0_row3\" class=\"row_heading level0 row3\" >3</th>\n",
              "      <td id=\"T_7a86d_row3_col0\" class=\"data row3 col0\" >3</td>\n",
              "      <td id=\"T_7a86d_row3_col1\" class=\"data row3 col1\" >15.00%</td>\n",
              "    </tr>\n",
              "    <tr>\n",
              "      <th id=\"T_7a86d_level0_row4\" class=\"row_heading level0 row4\" >5</th>\n",
              "      <td id=\"T_7a86d_row4_col0\" class=\"data row4 col0\" >1</td>\n",
              "      <td id=\"T_7a86d_row4_col1\" class=\"data row4 col1\" >5.00%</td>\n",
              "    </tr>\n",
              "  </tbody>\n",
              "</table>\n"
            ],
            "text/plain": [
              "<pandas.io.formats.style.Styler at 0x7f6d95cf16f0>"
            ]
          },
          "metadata": {},
          "output_type": "display_data"
        }
      ],
      "source": [
        "import pandas as pd\n",
        "\n",
        "dados = {\n",
        "    'n_filhos': [0] * 4 + [1] * 5 + [2] * 7 + [3] * 3 + [5]\n",
        "}\n",
        "\n",
        "df = pd.DataFrame(dados)\n",
        "\n",
        "distribuicao = df['n_filhos'].value_counts().sort_index()\n",
        "\n",
        "total_pessoas = len(df)\n",
        "distribuicao_proporcional = distribuicao / total_pessoas\n",
        "\n",
        "tabela_frequencia = pd.DataFrame({'Nº Filhos': distribuicao.index,\n",
        "                                  'Absoluta': distribuicao.values,\n",
        "                                  'Proporcional': distribuicao_proporcional.values})\n",
        "\n",
        "tabela_frequencia.set_index('Nº Filhos', inplace=True)\n",
        "\n",
        "tabela_frequencia_styled = tabela_frequencia.style.format({\n",
        "    'Absoluta': '{:.0f}',\n",
        "    'Proporcional': '{:.2%}'\n",
        "})\n",
        "\n",
        "display(tabela_frequencia_styled)"
      ]
    },
    {
      "cell_type": "markdown",
      "metadata": {
        "id": "ij7R_3nikkJ_"
      },
      "source": [
        "d) Idade"
      ]
    },
    {
      "cell_type": "code",
      "execution_count": null,
      "metadata": {
        "colab": {
          "base_uri": "https://localhost:8080/",
          "height": 175
        },
        "id": "DAjykpMql_5U",
        "outputId": "81f09897-e44c-486c-c941-0e8fc00eefc1"
      },
      "outputs": [
        {
          "data": {
            "text/html": [
              "<style type=\"text/css\">\n",
              "</style>\n",
              "<table id=\"T_427cd\" class=\"dataframe\">\n",
              "  <thead>\n",
              "    <tr>\n",
              "      <th class=\"blank level0\" >&nbsp;</th>\n",
              "      <th id=\"T_427cd_level0_col0\" class=\"col_heading level0 col0\" >Absoluta</th>\n",
              "      <th id=\"T_427cd_level0_col1\" class=\"col_heading level0 col1\" >Proporcional</th>\n",
              "    </tr>\n",
              "    <tr>\n",
              "      <th class=\"index_name level0\" >Idade</th>\n",
              "      <th class=\"blank col0\" >&nbsp;</th>\n",
              "      <th class=\"blank col1\" >&nbsp;</th>\n",
              "    </tr>\n",
              "  </thead>\n",
              "  <tbody>\n",
              "    <tr>\n",
              "      <th id=\"T_427cd_level0_row0\" class=\"row_heading level0 row0\" >19-30</th>\n",
              "      <td id=\"T_427cd_row0_col0\" class=\"data row0 col0\" >8</td>\n",
              "      <td id=\"T_427cd_row0_col1\" class=\"data row0 col1\" >22.22%</td>\n",
              "    </tr>\n",
              "    <tr>\n",
              "      <th id=\"T_427cd_level0_row1\" class=\"row_heading level0 row1\" >30-40</th>\n",
              "      <td id=\"T_427cd_row1_col0\" class=\"data row1 col0\" >18</td>\n",
              "      <td id=\"T_427cd_row1_col1\" class=\"data row1 col1\" >50.00%</td>\n",
              "    </tr>\n",
              "    <tr>\n",
              "      <th id=\"T_427cd_level0_row2\" class=\"row_heading level0 row2\" >40-50</th>\n",
              "      <td id=\"T_427cd_row2_col0\" class=\"data row2 col0\" >10</td>\n",
              "      <td id=\"T_427cd_row2_col1\" class=\"data row2 col1\" >27.78%</td>\n",
              "    </tr>\n",
              "  </tbody>\n",
              "</table>\n"
            ],
            "text/plain": [
              "<pandas.io.formats.style.Styler at 0x7f6d95cf3cd0>"
            ]
          },
          "metadata": {},
          "output_type": "display_data"
        }
      ],
      "source": [
        "import pandas as pd\n",
        "\n",
        "idades = [\n",
        "    (20, 10), (23, 6), (25, 8), (26, 3), (26, 1), (27, 11), (28, 0), (29, 8),\n",
        "    (30, 9), (30, 5), (31, 7), (31, 5), (32, 5), (32, 10), (33, 7), (33, 6),\n",
        "    (34, 10), (34, 2), (35, 0), (35, 10), (36, 5), (36, 4), (37, 4), (37, 5), (38, 8),\n",
        "    (39, 7), (40, 6), (40, 7), (41, 0), (41, 0), (42, 2), (43, 4), (43, 7),\n",
        "    (44, 2), (46, 7), (48, 11)\n",
        "]\n",
        "\n",
        "intervalos = [(19, 30), (30, 40), (40, 50)]\n",
        "\n",
        "df_idades = pd.DataFrame(idades, columns=['Anos', 'Meses'])\n",
        "df_idades['Idade_Total'] = df_idades['Anos'] + df_idades['Meses'] / 12\n",
        "\n",
        "frequencia = [0] * len(intervalos)\n",
        "total_funcionarios = len(df_idades)\n",
        "\n",
        "for idade_total in df_idades['Idade_Total']:\n",
        "    for i, (inicio, fim) in enumerate(intervalos):\n",
        "        if inicio <= idade_total < fim:\n",
        "            frequencia[i] += 1\n",
        "            break\n",
        "\n",
        "frequencia_proporcional = [f / total_funcionarios for f in frequencia]\n",
        "\n",
        "tabela_frequencia = pd.DataFrame({'Idade': [f'{inicio}-{fim}' for inicio, fim in intervalos],\n",
        "                                  'Absoluta': frequencia,\n",
        "                                  'Proporcional': frequencia_proporcional})\n",
        "\n",
        "tabela_frequencia.set_index('Idade', inplace=True)\n",
        "\n",
        "tabela_frequencia_styled = tabela_frequencia.style.format({\n",
        "    'Absoluta': '{:.0f}',\n",
        "    'Proporcional': '{:.2%}'\n",
        "})\n",
        "\n",
        "display(tabela_frequencia_styled)"
      ]
    },
    {
      "cell_type": "markdown",
      "metadata": {
        "id": "n9u9YLSFn1RT"
      },
      "source": [
        "2) Contou-se o número de erros de impressão da primeira página de um jornal durante 50 dias, obtendo-se os resultados abaixo:\n"
      ]
    },
    {
      "cell_type": "markdown",
      "metadata": {
        "id": "kNCdUaQkn6KK"
      },
      "source": [
        "a) Represente os dados graficamente."
      ]
    },
    {
      "cell_type": "code",
      "execution_count": null,
      "metadata": {
        "colab": {
          "base_uri": "https://localhost:8080/",
          "height": 568
        },
        "id": "ryeZWUWtn9wz",
        "outputId": "8d5093b3-ef15-4828-d1c4-8d1159c160ba"
      },
      "outputs": [
        {
          "data": {
            "image/png": "[encoded data removed]",
            "text/plain": [
              "<Figure size 1000x600 with 1 Axes>"
            ]
          },
          "metadata": {},
          "output_type": "display_data"
        }
      ],
      "source": [
        "import pandas as pd\n",
        "import matplotlib.pyplot as plt\n",
        "\n",
        "dados_erros = [8, 11, 8, 12, 14, 13, 11, 14, 14, 15, 6, 10, 14, 19, 6, 12, 7, 5, 8, 8, 10, 16, 10, 12, 12, 8, 11, 6, 7, 12, 7, 10, 14, 5, 12, 7, 9, 12, 11, 9, 14, 8, 14, 8, 12, 10, 12, 22, 7, 15]\n",
        "\n",
        "df = pd.DataFrame(dados_erros, columns=['Erros'])\n",
        "\n",
        "plt.figure(figsize=(10, 6))\n",
        "df['Erros'].value_counts().sort_index().plot(kind='bar', color='skyblue')\n",
        "\n",
        "plt.title('Gráfico de Erros de Impressão')\n",
        "plt.xlabel('Número de Erros')\n",
        "plt.ylabel('Frequência')\n",
        "\n",
        "plt.show()"
      ]
    },
    {
      "cell_type": "markdown",
      "metadata": {
        "id": "zkm98NNFoDZD"
      },
      "source": [
        "b) Faça um histograma\n"
      ]
    },
    {
      "cell_type": "code",
      "execution_count": null,
      "metadata": {
        "colab": {
          "background_save": true,
          "base_uri": "https://localhost:8080/",
          "height": 564
        },
        "id": "Ytj0LGccoDRI",
        "outputId": "d700b10b-bca6-42d7-9238-95dc7b5bfa34"
      },
      "outputs": [
        {
          "data": {
            "image/png": "[encoded data removed]",
            "text/plain": [
              "<Figure size 1000x600 with 1 Axes>"
            ]
          },
          "metadata": {},
          "output_type": "display_data"
        }
      ],
      "source": [
        "import matplotlib.pyplot as plt\n",
        "\n",
        "dados_erros = [8, 11, 8, 12, 14, 13, 11, 14, 14, 15, 6, 10, 14, 19, 6, 12, 7, 5, 8, 8, 10, 16, 10, 12, 12, 8, 11, 6, 7, 12, 7, 10, 14, 5, 12, 7, 9, 12, 11, 9, 14, 8, 14, 8, 12, 10, 12, 22, 7, 15]\n",
        "\n",
        "plt.figure(figsize=(10, 6))\n",
        "plt.hist(dados_erros, bins=10, color='skyblue', edgecolor='black')\n",
        "\n",
        "plt.title('Histograma de Erros de Impressão')\n",
        "plt.xlabel('Número de Erros')\n",
        "plt.ylabel('Frequência')\n",
        "\n",
        "plt.show()"
      ]
    }
  ],
  "metadata": {
    "colab": {
      "provenance": []
    },
    "kernelspec": {
      "display_name": "Python 3",
      "name": "python3"
    },
    "language_info": {
      "name": "python"
    }
  },
  "nbformat": 4,
  "nbformat_minor": 0
}